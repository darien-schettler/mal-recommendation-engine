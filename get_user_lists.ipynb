{
 "cells": [
  {
   "cell_type": "code",
   "execution_count": 5,
   "metadata": {},
   "outputs": [],
   "source": [
    "import numpy as np\n",
    "import pandas as pd\n",
    "import json\n",
    "import time\n",
    "import requests\n",
    "\n",
    "\n",
    "mal_user_list = np.load('data/user_info/mal_user_list.npy')"
   ]
  },
  {
   "cell_type": "code",
   "execution_count": 6,
   "metadata": {},
   "outputs": [],
   "source": [
    "mal_unique_list = np.array(list(set(mal_user_list)))"
   ]
  },
  {
   "cell_type": "code",
   "execution_count": 7,
   "metadata": {},
   "outputs": [
    {
     "name": "stdout",
     "output_type": "stream",
     "text": [
      "770349\n",
      "106784\n",
      "663565\n"
     ]
    }
   ],
   "source": [
    "mal_restart_list = [x for x in list(mal_unique_list) if x not in list(big_user_dict.keys())]\n",
    "print(len(mal_unique_list))\n",
    "print(len(list(set(list(big_user_dict.keys())))))\n",
    "print(len(mal_restart_list))"
   ]
  },
  {
   "cell_type": "code",
   "execution_count": 11,
   "metadata": {},
   "outputs": [
    {
     "name": "stdout",
     "output_type": "stream",
     "text": [
      "663565\n",
      "663565\n"
     ]
    }
   ],
   "source": [
    "print(len(mal_restart_list))\n",
    "print(len(set(mal_restart_list)))"
   ]
  },
  {
   "cell_type": "code",
   "execution_count": 9,
   "metadata": {},
   "outputs": [],
   "source": [
    "# Remains unchanged\n",
    "page_root_1 = 'https://myanimelist.net/animelist/'\n",
    "\n",
    "# Will remain unchanged\n",
    "page_root_2 = '/load.json?status=7&offset=0'"
   ]
  },
  {
   "cell_type": "code",
   "execution_count": 59,
   "metadata": {},
   "outputs": [
    {
     "data": {
      "text/plain": [
       "173220"
      ]
     },
     "execution_count": 59,
     "metadata": {},
     "output_type": "execute_result"
    }
   ],
   "source": [
    "def find_index_from_user(username):\n",
    "    return list(mal_restart_list).index(username)\n",
    "\n",
    "find_index_from_user(\"annular211\")"
   ]
  },
  {
   "cell_type": "code",
   "execution_count": null,
   "metadata": {},
   "outputs": [
    {
     "name": "stdout",
     "output_type": "stream",
     "text": [
      "\n",
      "----------------------------------------\n",
      "Working on https://myanimelist.net/animelist/MineB/load.json?status=7&offset=0\n",
      "SUCCESS (#95527) --- 1 of 5419134 completed... MineB\n",
      "----------------------------------------\n",
      "\n",
      "\n",
      "----------------------------------------\n",
      "Working on https://myanimelist.net/animelist/Kyzerk/load.json?status=7&offset=0\n",
      "SUCCESS (#95528) --- 2 of 5419134 completed... Kyzerk\n",
      "----------------------------------------\n",
      "\n",
      "\n",
      "----------------------------------------\n",
      "Working on https://myanimelist.net/animelist/fomantis/load.json?status=7&offset=0\n",
      "FAILURE  (#54924) --- 3 of 5419134 completed... fomantis\n",
      "----------------------------------------\n",
      "\n",
      "\n",
      "----------------------------------------\n",
      "Working on https://myanimelist.net/animelist/rmetherlace/load.json?status=7&offset=0\n",
      "FAILURE  (#54925) --- 4 of 5419134 completed... rmetherlace\n",
      "----------------------------------------\n",
      "\n",
      "\n",
      "----------------------------------------\n",
      "Working on https://myanimelist.net/animelist/itsoktocry/load.json?status=7&offset=0\n",
      "SUCCESS (#95529) --- 5 of 5419134 completed... itsoktocry\n",
      "----------------------------------------\n",
      "\n",
      "\n",
      "----------------------------------------\n",
      "Working on https://myanimelist.net/animelist/garbagedionysus/load.json?status=7&offset=0\n",
      "SUCCESS (#95530) --- 6 of 5419134 completed... garbagedionysus\n",
      "----------------------------------------\n",
      "\n",
      "\n",
      "----------------------------------------\n",
      "Working on https://myanimelist.net/animelist/foodqueen98/load.json?status=7&offset=0\n",
      "SUCCESS (#95531) --- 7 of 5419134 completed... foodqueen98\n",
      "----------------------------------------\n",
      "\n",
      "\n",
      "----------------------------------------\n",
      "Working on https://myanimelist.net/animelist/Kyobean/load.json?status=7&offset=0\n",
      "SUCCESS (#95532) --- 8 of 5419134 completed... Kyobean\n",
      "----------------------------------------\n",
      "\n"
     ]
    }
   ],
   "source": [
    "# fail_count = 0\n",
    "# success_count = 0\n",
    "\n",
    "for i, user in enumerate(mal_restart_list[150445:]):\n",
    "    \n",
    "    ind_user_dict = {}\n",
    "    \n",
    "    user_list_path = page_root_1+user+page_root_2\n",
    "    print(\"\\n----------------------------------------\\nWorking on {}\".format(user_list_path))\n",
    "    \n",
    "#     # parse the html using beautiful soup and store in variable `soup`\n",
    "#     soup = BeautifulSoup(page, \"html5lib\")\n",
    "\n",
    "#     # Find the users on the page and put them into a list\n",
    "#     users_table = soup.find_all('table', attrs={'class' : 'list-table'})\n",
    "    user_json = requests.get(url=user_list_path)\n",
    "    if user_json.status_code == 429:\n",
    "        time.sleep(4)\n",
    "        user_json = requests.get(url=user_list_path)\n",
    "\n",
    "        if user_json.status_code == 429:\n",
    "            time.sleep(12)\n",
    "            fail_count += 1\n",
    "            print(\"FAILURE  (#{}) --- {} of {} completed... {}\\n----------------------------------------\\n\".format(fail_count, i+1, len(mal_user_list), user))\n",
    "            continue\n",
    "\n",
    "    if user_json.status_code == 404:\n",
    "        fail_count += 1\n",
    "        print(\"FAILURE  (#{}) --- {} of {} completed... {}\\n----------------------------------------\\n\".format(fail_count, i+1, len(mal_user_list), user))\n",
    "        continue\n",
    "\n",
    "    user_json = user_json.json()\n",
    "    \n",
    "    if user_json != {} and len(user_json)>5:\n",
    "    \n",
    "        for row in user_json:\n",
    "            ind_user_dict[row.get(\"anime_title\")] = row.get(\"score\")\n",
    "\n",
    "        big_user_dict[user] = ind_user_dict\n",
    "        success_count += 1\n",
    "        print(\"SUCCESS (#{}) --- {} of {} completed... {}\\n----------------------------------------\\n\".format(success_count, i+1, len(mal_user_list), user))\n",
    "        \n",
    "    else:\n",
    "        fail_count += 1\n",
    "        print(\"FAILURE  (#{}) --- {} of {} completed... {}\\n----------------------------------------\\n\".format(fail_count, i+1, len(mal_user_list), user))\n",
    "    \n",
    "    time.sleep(1.6)\n",
    "\n"
   ]
  },
  {
   "cell_type": "code",
   "execution_count": 56,
   "metadata": {},
   "outputs": [
    {
     "name": "stdout",
     "output_type": "stream",
     "text": [
      "218625\n",
      "annular211\n"
     ]
    }
   ],
   "source": [
    "print(len(set(list(big_user_dict.keys()))))\n",
    "print(list(big_user_dict.keys())[-1])"
   ]
  },
  {
   "cell_type": "code",
   "execution_count": 57,
   "metadata": {
    "scrolled": true
   },
   "outputs": [
    {
     "name": "stdout",
     "output_type": "stream",
     "text": [
      "111842\n",
      "61383\n"
     ]
    }
   ],
   "source": [
    "print(success_count)\n",
    "print(fail_count)"
   ]
  },
  {
   "cell_type": "code",
   "execution_count": 58,
   "metadata": {},
   "outputs": [],
   "source": [
    "def save_obj(obj, name ):\n",
    "    with open('obj/'+ name + '.pkl', 'wb') as f:\n",
    "        pickle.dump(obj, f, pickle.HIGHEST_PROTOCOL)\n",
    "\n",
    "def load_obj(name ):\n",
    "    with open('obj/' + name + '.pkl', 'rb') as f:\n",
    "        return pickle.load(f)"
   ]
  },
  {
   "cell_type": "code",
   "execution_count": 60,
   "metadata": {},
   "outputs": [],
   "source": [
    "import pickle\n",
    "save_obj(big_user_dict, \"big_user_dict_2019_09_04_218625\")"
   ]
  },
  {
   "cell_type": "code",
   "execution_count": 61,
   "metadata": {},
   "outputs": [],
   "source": [
    "save_obj(mal_restart_list[173220:], \"mal_restart_list_not_yet_done\")"
   ]
  },
  {
   "cell_type": "code",
   "execution_count": null,
   "metadata": {},
   "outputs": [],
   "source": []
  }
 ],
 "metadata": {
  "kernelspec": {
   "display_name": "Python [conda env:tensorflow_p36]",
   "language": "python",
   "name": "conda-env-tensorflow_p36-py"
  },
  "language_info": {
   "codemirror_mode": {
    "name": "ipython",
    "version": 3
   },
   "file_extension": ".py",
   "mimetype": "text/x-python",
   "name": "python",
   "nbconvert_exporter": "python",
   "pygments_lexer": "ipython3",
   "version": "3.6.5"
  }
 },
 "nbformat": 4,
 "nbformat_minor": 2
}
